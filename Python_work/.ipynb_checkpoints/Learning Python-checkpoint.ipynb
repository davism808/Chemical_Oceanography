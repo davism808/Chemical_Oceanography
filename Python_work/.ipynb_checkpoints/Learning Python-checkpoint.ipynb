{
 "cells": [
  {
   "cell_type": "code",
   "execution_count": null,
   "id": "78c9ce05-98f7-4180-9067-c52f9ab7024b",
   "metadata": {},
   "outputs": [],
   "source": []
  },
  {
   "cell_type": "code",
   "execution_count": 13,
   "id": "5632189e-e167-46e2-a1cb-e40351ebf608",
   "metadata": {},
   "outputs": [],
   "source": [
    "import pandas as pd\n",
    "import netCDF4\n",
    "import numpy as np\n"
   ]
  },
  {
   "cell_type": "code",
   "execution_count": 20,
   "id": "114905d8-9622-40a1-a3b9-29ff29db4b5c",
   "metadata": {},
   "outputs": [],
   "source": [
    "path = '/Users/madidavis/Desktop/Python_work/hd109308.nc'\n",
    "Historical_HOT = netCDF4.Dataset(path)"
   ]
  },
  {
   "cell_type": "code",
   "execution_count": 21,
   "id": "114b13f7-5b25-4996-9697-9903d5a8a260",
   "metadata": {},
   "outputs": [
    {
     "name": "stdout",
     "output_type": "stream",
     "text": [
      "<class 'netCDF4._netCDF4.Dataset'>\n",
      "root group (NETCDF3_CLASSIC data model, file format NETCDF3):\n",
      "    dimensions(sizes): dataDesc(95), crn(18603), stn(18603), cast(18603), ros(18603), mdate(18603), mtime(18603), press(18603), phos(18603)\n",
      "    variables(dimensions): |S1 dataDesc(dataDesc), float64 crn(crn), float64 stn(stn), float64 cast(cast), float64 ros(ros), float64 mdate(mdate), float64 mtime(mtime), float64 press(press), float64 phos(phos)\n",
      "    groups: \n"
     ]
    }
   ],
   "source": [
    "print(Historical_HOT)"
   ]
  },
  {
   "cell_type": "code",
   "execution_count": 22,
   "id": "7e1550e9-f322-463c-b6e2-8a7cc9165325",
   "metadata": {},
   "outputs": [
    {
     "name": "stdout",
     "output_type": "stream",
     "text": [
      "dict_keys(['dataDesc', 'crn', 'stn', 'cast', 'ros', 'mdate', 'mtime', 'press', 'phos'])\n"
     ]
    }
   ],
   "source": [
    "print(Historical_HOT.variables.keys())"
   ]
  },
  {
   "cell_type": "code",
   "execution_count": 26,
   "id": "c825d12e-3e44-455e-870d-a23bf99f2310",
   "metadata": {},
   "outputs": [],
   "source": [
    "pressure = Historical_HOT.variables['press']\n",
    "PO4 = Historical_HOT.variables['phos']"
   ]
  },
  {
   "cell_type": "code",
   "execution_count": null,
   "id": "c35c2662-39da-4e85-a924-7fdb3c827c8a",
   "metadata": {},
   "outputs": [],
   "source": []
  }
 ],
 "metadata": {
  "kernelspec": {
   "display_name": "Python 3 (ipykernel)",
   "language": "python",
   "name": "python3"
  },
  "language_info": {
   "codemirror_mode": {
    "name": "ipython",
    "version": 3
   },
   "file_extension": ".py",
   "mimetype": "text/x-python",
   "name": "python",
   "nbconvert_exporter": "python",
   "pygments_lexer": "ipython3",
   "version": "3.9.12"
  }
 },
 "nbformat": 4,
 "nbformat_minor": 5
}
